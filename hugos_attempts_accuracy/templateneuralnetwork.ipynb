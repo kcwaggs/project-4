{
 "cells": [
  {
   "cell_type": "code",
   "execution_count": 20,
   "id": "6e1e0244-465a-4749-8000-dc41dc2c9fe0",
   "metadata": {},
   "outputs": [
    {
     "name": "stdout",
     "output_type": "stream",
     "text": [
      "is_playable                       0\n",
      "danceability                      0\n",
      "energy                            0\n",
      "key                               0\n",
      "loudness                          0\n",
      "                                 ..\n",
      "main_genre_R&B/Soul/Funk          0\n",
      "main_genre_Rock                   0\n",
      "main_genre_Seasonal/Holiday       0\n",
      "main_genre_Soundtrack/Theme       0\n",
      "main_genre_World/International    0\n",
      "Length: 96, dtype: int64\n",
      "False\n"
     ]
    }
   ],
   "source": [
    "# Import dependencies\n",
    "import pandas as pd\n",
    "import numpy as np\n",
    "import sklearn as skl\n",
    "import tensorflow as tf\n",
    "import keras_tuner as kt\n",
    "\n",
    "# Load the dataset\n",
    "file_path = 'resources/feature_engineered_music_dataset.csv'\n",
    "df = pd.read_csv(file_path)\n",
    "\n",
    "# Drop non-numeric columns\n",
    "non_numeric_columns = ['track_uri', 'name', 'artists_names', 'artists_uris', 'playlist_uris', 'analysis_url', 'artists_genres']\n",
    "df.drop(columns=non_numeric_columns, inplace=True)\n",
    "\n",
    "# One-hot encode remaining non-numeric columns if any\n",
    "remaining_non_numeric_columns = df.select_dtypes(include=['object']).columns\n",
    "df = pd.get_dummies(df, columns=remaining_non_numeric_columns, drop_first=True)\n",
    "\n",
    "# Check for NaN and infinite values\n",
    "print(df.isna().sum())\n",
    "print(np.isfinite(df).all().all())"
   ]
  }
 ],
 "metadata": {
  "kernelspec": {
   "display_name": "Python 3 (ipykernel)",
   "language": "python",
   "name": "python3"
  },
  "language_info": {
   "codemirror_mode": {
    "name": "ipython",
    "version": 3
   },
   "file_extension": ".py",
   "mimetype": "text/x-python",
   "name": "python",
   "nbconvert_exporter": "python",
   "pygments_lexer": "ipython3",
   "version": "3.12.3"
  }
 },
 "nbformat": 4,
 "nbformat_minor": 5
}
