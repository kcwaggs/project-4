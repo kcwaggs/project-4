{
 "cells": [
  {
   "cell_type": "code",
   "execution_count": 1,
   "metadata": {},
   "outputs": [],
   "source": [
    "# import dependencies\n",
    "from pathlib import Path\n",
    "from sqlalchemy import create_engine\n",
    "import pandas as pd\n",
    "import numpy as np\n",
    "from datetime import datetime\n",
    "from sqlalchemy.orm import sessionmaker\n",
    "import csv\n",
    "\n",
    "file_path = Path(\"../main_dataset.csv\")\n",
    "df = pd.read_csv(\"../main_dataset.csv\") # for the dataset without preprocessing\n",
    "preprocessing_df = pd.read_csv(\"../preprocessing.csv\", low_memory=False) # dataset from the test.ipynb file with preprocessing\n"
   ]
  },
  {
   "cell_type": "code",
   "execution_count": 2,
   "metadata": {},
   "outputs": [
    {
     "name": "stdout",
     "output_type": "stream",
     "text": [
      "['index', 'track_uri', 'name', 'artists_names', 'popularity', 'is_playable', 'release_date', 'artists_uris', 'playlist_uris', 'danceability', 'energy', 'key', 'loudness', 'speechiness', 'acousticness', 'instrumentalness', 'liveness', 'valence', 'tempo', 'analysis_url', 'duration_ms', 'artists_popularities', 'artists_genres', 'artists_followers', 'album', 'compilation', 'single', 'release_dayofweek', 'Monday', 'Tuesday', 'Wednesday', 'Thursday', 'Friday', 'Saturday', 'Sunday', 'release_month', 'January', 'February', 'March', 'April', 'May', 'June', 'July', 'August', 'September', 'October', 'November', 'December', 'time_since_release', 'pitch_names', 'C', 'CD', 'D', 'DE', 'E', 'F', 'FG', 'G', 'GA', 'A', 'AB', 'B', 'mode_minor', 'mode_major', 'speechiness_mixed', 'speechiness_non_speech', 'speechiness_speech', 'instrumentalness_above_5', 'instrumentalness_below_5', 'is_live', 'is_not_live', 'time_signature_4_4', 'time_signature_other', 'broader_genre_category']\n",
      "211728\n"
     ]
    }
   ],
   "source": [
    "preprocessing_df = preprocessing_df[preprocessing_df['release_date'].notna() & preprocessing_df['release_date'].str.match(r'\\d{4}-\\d{2}-\\d{2}')]\n",
    "# 15,173 removed as they do not include a release date, only the year. \n",
    "\n",
    "\n",
    "preprocessing_df.insert(0, 'index', range(1, len(preprocessing_df) + 1))\n",
    "preprocessing_df = preprocessing_df.drop(columns=['Unnamed: 0'])\n",
    "\n",
    "column_mapping = {\n",
    "    'C♯/D♭': 'CD',\n",
    "    'D♯/E♭': 'DE',\n",
    "    'F♯/G♭': 'FG',\n",
    "    'G♯/A♭': 'GA',\n",
    "    'A♯/B♭': 'AB', \n",
    "    'instrumentalness_above_0.5': 'instrumentalness_above_5',\n",
    "    'instrumentalness_below_0.5': 'instrumentalness_below_5',\n",
    "    'speechiness_non-speech': 'speechiness_non_speech'\n",
    "}\n",
    "\n",
    "# Rename columns\n",
    "preprocessing_df.rename(columns=column_mapping, inplace=True)\n",
    "\n",
    "print(preprocessing_df.columns.tolist())\n",
    "print(preprocessing_df.shape[0])"
   ]
  },
  {
   "cell_type": "code",
   "execution_count": 3,
   "metadata": {},
   "outputs": [],
   "source": [
    "song_attribute = ['\"index\"', 'is_playable', 'danceability', 'energy', 'key', 'loudness', 'speechiness', 'acousticness', \n",
    "                  'instrumentalness', 'liveness', 'valence', 'tempo', 'duration_ms', 'Monday', 'Tuesday', \n",
    "                  'Wednesday', 'Thursday', 'Friday', 'Saturday', 'Sunday', 'January', 'February', 'March', 'April', \n",
    "                  'May', 'June', 'July', 'August', 'September', 'October', 'November', 'December', 'time_since_release', \n",
    "                  'C', 'CD', 'D', 'DE', 'E', 'F', 'FG', 'G', 'GA', 'A', 'AB', 'B', 'mode_minor', 'mode_major', \n",
    "                  'speechiness_mixed', 'speechiness_non_speech', 'speechiness_speech', 'instrumentalness_above_5', \n",
    "                  'instrumentalness_below_5', 'is_live', 'is_not_live', 'time_signature_4_4', 'time_signature_other']\n",
    "\n",
    "\n",
    "other_attribute = ['\"index\"', 'track_uri', 'name', 'artists_names', 'popularity', 'release_date', \n",
    "                   'artists_uris', 'playlist_uris', 'artists_popularities', 'artists_genres', \n",
    "                   'artists_followers', 'album', 'compilation', 'single', 'release_dayofweek', \n",
    "                   'release_month', 'pitch_names', 'broader_genre_category']"
   ]
  },
  {
   "cell_type": "code",
   "execution_count": 4,
   "metadata": {},
   "outputs": [
    {
     "name": "stdout",
     "output_type": "stream",
     "text": [
      "(1, 'spotify:track:0GYpisgsrUSd8B4UqksmfY', '新緑', \"['上野大樹']\", 25, 1, '2023-04-05', \"['spotify:artist:5YPkOSqagMwjOWf7PLjHNF']\", \"['spotify:playlist:37i9dQZF1DWSt89CX9de4L']\", 0.595, 0.432, 2.0, -9.488, 0.0422, 0.601, 0.0, 0.0899, 0.379, 145.707, 'https://api.spotify.com/v1/audio-analysis/0GYpisgsrUSd8B4UqksmfY', 260033.0, '[48]', \"[['j-acoustic', 'j-pop']]\", '[69413]', 1, 0, 0, 2.0, 0, 0, 1, 0, 0, 0, 0, 4.0, 0, 0, 0, 1, 0, 0, 0, 0, 0, 0, 0, 0, 421.0, 'D', 0, 0, 1, 0, 0, 0, 0, 0, 0, 0, 0, 0, 0, 1, 0, 1, 0, 0, 1, 0, 1, 1, 0, 'Pop')\n",
      "(2, 'spotify:track:3b9eglykqfxtTaSpSidP9u', 'またね', \"['Lucky Kilimanjaro']\", 47, 1, '2023-04-05', \"['spotify:artist:2V8UZPMR1EbkXhzvEGBTrV']\", \"['spotify:playlist:37i9dQZF1DXahYFr91pFvG']\", 0.807, 0.707, 5.0, -4.759, 0.0319, 0.0696, 0.0033, 0.31, 0.607, 123.023, 'https://api.spotify.com/v1/audio-analysis/3b9eglykqfxtTaSpSidP9u', 216730.0, '[49]', \"[['city pop', 'j-indie', 'japanese electropop', 'japanese r&b']]\", '[89318]', 0, 0, 1, 2.0, 0, 0, 1, 0, 0, 0, 0, 4.0, 0, 0, 0, 1, 0, 0, 0, 0, 0, 0, 0, 0, 421.0, 'F', 0, 0, 0, 0, 0, 1, 0, 0, 0, 0, 0, 0, 0, 1, 0, 1, 0, 0, 1, 0, 1, 1, 0, 'R&B/Soul/Funk')\n",
      "(3, 'spotify:track:2iOn50LwBLQxhL5pMoIMpW', 'Sueño Flamenco - Original Mix', \"['Marksman']\", 5, 1, '2023-04-04', \"['spotify:artist:59ggRM2BowvTe9nlnwGlBT']\", \"['spotify:playlist:1ILlyqabDcTv0mbnTxE7Od']\", 0.597, 0.814, 6.0, -7.531, 0.0475, 0.000751, 0.857, 0.105, 0.0917, 124.01, 'https://api.spotify.com/v1/audio-analysis/2iOn50LwBLQxhL5pMoIMpW', 491613.0, '[26]', '[[]]', '[6409]', 0, 0, 1, 1.0, 0, 1, 0, 0, 0, 0, 0, 4.0, 0, 0, 0, 1, 0, 0, 0, 0, 0, 0, 0, 0, 422.0, 'F♯/G♭', 0, 0, 0, 0, 0, 0, 1, 0, 0, 0, 0, 0, 1, 0, 0, 1, 0, 1, 0, 0, 1, 1, 0, 'Miscellaneous')\n",
      "(4, 'spotify:track:68aueb4O4xxqwsBPiP7dLS', 'Nightshift', \"['Khainz']\", 27, 1, '2023-03-31', \"['spotify:artist:71yD5VENn9Wy1IECnpYWvX']\", \"['spotify:playlist:37i9dQZF1DX8AliSIsGeKd']\", 0.757, 0.913, 7.0, -7.542, 0.0483, 0.00333, 0.853, 0.133, 0.181, 123.993, 'https://api.spotify.com/v1/audio-analysis/68aueb4O4xxqwsBPiP7dLS', 390968.0, '[28]', \"[['swiss techno', 'tech house']]\", '[12983]', 0, 0, 1, 4.0, 0, 0, 0, 0, 1, 0, 0, 3.0, 0, 0, 1, 0, 0, 0, 0, 0, 0, 0, 0, 0, 426.0, 'G', 0, 0, 0, 0, 0, 0, 0, 1, 0, 0, 0, 0, 0, 1, 0, 1, 0, 1, 0, 0, 1, 1, 0, 'Electronic/Dance')\n",
      "(5, 'spotify:track:2lRBoCWxkUcEicwVQjQugG', \"The Spider's thread\", \"['Penthouse']\", 15, 1, '2023-03-29', \"['spotify:artist:50QaWH5OLY3Pkt1XNCGk6L']\", \"['spotify:playlist:37i9dQZF1DWSt89CX9de4L']\", 0.641, 0.758, 1.0, -5.04, 0.046, 0.102, 0.0, 0.337, 0.933, 97.969, 'https://api.spotify.com/v1/audio-analysis/2lRBoCWxkUcEicwVQjQugG', 211747.0, '[52]', \"[['j-pop']]\", '[66153]', 1, 0, 0, 2.0, 0, 0, 1, 0, 0, 0, 0, 3.0, 0, 0, 1, 0, 0, 0, 0, 0, 0, 0, 0, 0, 428.0, 'C♯/D♭', 0, 1, 0, 0, 0, 0, 0, 0, 0, 0, 0, 0, 0, 1, 0, 1, 0, 0, 1, 0, 1, 1, 0, 'Pop')\n"
     ]
    }
   ],
   "source": [
    "# create engine and new sqlite file \n",
    "engine = create_engine('sqlite:///converted_file.sqlite')\n",
    "preprocessing_df.to_sql('dataset', engine, if_exists = 'replace', index=False)\n",
    "\n",
    "# start session \n",
    "Session = sessionmaker(bind = engine)\n",
    "session = Session()\n",
    "\n",
    "# print first 10 rows of dataset \n",
    "result = session.execute('select * from dataset limit 5')\n",
    "for row in result:\n",
    "    print(row) "
   ]
  },
  {
   "cell_type": "code",
   "execution_count": 5,
   "metadata": {},
   "outputs": [
    {
     "name": "stdout",
     "output_type": "stream",
     "text": [
      "(1, 'spotify:track:0GYpisgsrUSd8B4UqksmfY', '新緑', \"['上野大樹']\", 25, '2023-04-05', \"['spotify:artist:5YPkOSqagMwjOWf7PLjHNF']\", \"['spotify:playlist:37i9dQZF1DWSt89CX9de4L']\", '[48]', \"[['j-acoustic', 'j-pop']]\", '[69413]', 1, 0, 0, 2.0, 4.0, 'D', 'Pop')\n",
      "(2, 'spotify:track:3b9eglykqfxtTaSpSidP9u', 'またね', \"['Lucky Kilimanjaro']\", 47, '2023-04-05', \"['spotify:artist:2V8UZPMR1EbkXhzvEGBTrV']\", \"['spotify:playlist:37i9dQZF1DXahYFr91pFvG']\", '[49]', \"[['city pop', 'j-indie', 'japanese electropop', 'japanese r&b']]\", '[89318]', 0, 0, 1, 2.0, 4.0, 'F', 'R&B/Soul/Funk')\n",
      "(3, 'spotify:track:2iOn50LwBLQxhL5pMoIMpW', 'Sueño Flamenco - Original Mix', \"['Marksman']\", 5, '2023-04-04', \"['spotify:artist:59ggRM2BowvTe9nlnwGlBT']\", \"['spotify:playlist:1ILlyqabDcTv0mbnTxE7Od']\", '[26]', '[[]]', '[6409]', 0, 0, 1, 1.0, 4.0, 'F♯/G♭', 'Miscellaneous')\n",
      "(4, 'spotify:track:68aueb4O4xxqwsBPiP7dLS', 'Nightshift', \"['Khainz']\", 27, '2023-03-31', \"['spotify:artist:71yD5VENn9Wy1IECnpYWvX']\", \"['spotify:playlist:37i9dQZF1DX8AliSIsGeKd']\", '[28]', \"[['swiss techno', 'tech house']]\", '[12983]', 0, 0, 1, 4.0, 3.0, 'G', 'Electronic/Dance')\n",
      "(5, 'spotify:track:2lRBoCWxkUcEicwVQjQugG', \"The Spider's thread\", \"['Penthouse']\", 15, '2023-03-29', \"['spotify:artist:50QaWH5OLY3Pkt1XNCGk6L']\", \"['spotify:playlist:37i9dQZF1DWSt89CX9de4L']\", '[52]', \"[['j-pop']]\", '[66153]', 1, 0, 0, 2.0, 3.0, 'C♯/D♭', 'Pop')\n"
     ]
    }
   ],
   "source": [
    "other_attributes_query = f\"select {', '.join(other_attribute)} from dataset\"\n",
    "result = session.execute(other_attributes_query)\n",
    "for i, row in enumerate(result):\n",
    "    if i >= 5:\n",
    "        break\n",
    "    print(row)"
   ]
  },
  {
   "cell_type": "code",
   "execution_count": 6,
   "metadata": {},
   "outputs": [
    {
     "name": "stdout",
     "output_type": "stream",
     "text": [
      "(1, 1, 0.595, 0.432, 2.0, -9.488, 0.0422, 0.601, 0.0, 0.0899, 0.379, 145.707, 260033.0, 0, 0, 0, 1, 0, 0, 0, 0, 0, 0, 0, 1, 0, 0, 0, 0, 0, 0, 0, 0, 421.0, 0, 0, 1, 0, 0, 0, 0, 0, 0, 0, 0, 0, 0, 1, 0, 1, 0, 0, 1, 0, 1, 1, 0)\n",
      "(2, 1, 0.807, 0.707, 5.0, -4.759, 0.0319, 0.0696, 0.0033, 0.31, 0.607, 123.023, 216730.0, 1, 0, 0, 1, 0, 0, 0, 0, 0, 0, 0, 1, 0, 0, 0, 0, 0, 0, 0, 0, 421.0, 0, 0, 0, 0, 0, 1, 0, 0, 0, 0, 0, 0, 0, 1, 0, 1, 0, 0, 1, 0, 1, 1, 0)\n",
      "(3, 1, 0.597, 0.814, 6.0, -7.531, 0.0475, 0.000751, 0.857, 0.105, 0.0917, 124.01, 491613.0, 1, 0, 1, 0, 0, 0, 0, 0, 0, 0, 0, 1, 0, 0, 0, 0, 0, 0, 0, 0, 422.0, 0, 0, 0, 0, 0, 0, 1, 0, 0, 0, 0, 0, 1, 0, 0, 1, 0, 1, 0, 0, 1, 1, 0)\n",
      "(4, 1, 0.757, 0.913, 7.0, -7.542, 0.0483, 0.00333, 0.853, 0.133, 0.181, 123.993, 390968.0, 1, 0, 0, 0, 0, 1, 0, 0, 0, 0, 1, 0, 0, 0, 0, 0, 0, 0, 0, 0, 426.0, 0, 0, 0, 0, 0, 0, 0, 1, 0, 0, 0, 0, 0, 1, 0, 1, 0, 1, 0, 0, 1, 1, 0)\n",
      "(5, 1, 0.641, 0.758, 1.0, -5.04, 0.046, 0.102, 0.0, 0.337, 0.933, 97.969, 211747.0, 0, 0, 0, 1, 0, 0, 0, 0, 0, 0, 1, 0, 0, 0, 0, 0, 0, 0, 0, 0, 428.0, 0, 1, 0, 0, 0, 0, 0, 0, 0, 0, 0, 0, 0, 1, 0, 1, 0, 0, 1, 0, 1, 1, 0)\n"
     ]
    }
   ],
   "source": [
    "# song_attributes_query = f\"select {', '.join(song_attribute)} from dataset limit 5\"\n",
    "\n",
    "song_attributes_query = \"\"\"\n",
    "select\n",
    "    \"index\", is_playable, danceability, energy, key, loudness, speechiness, acousticness, \n",
    "    instrumentalness, liveness, valence, tempo, duration_ms, Monday, Tuesday, \n",
    "    Wednesday, Thursday, Friday, Saturday, Sunday, January, February, March, April, \n",
    "    May, June, July, August, September, October, November, December, time_since_release, \n",
    "    C, CD, D, DE, E, F, FG, G, GA, A, AB, B, mode_minor, mode_major, \n",
    "    speechiness_mixed, speechiness_non_speech, speechiness_speech, instrumentalness_above_5, \n",
    "    instrumentalness_below_5, is_live, is_not_live, time_signature_4_4, time_signature_other\n",
    "from dataset \n",
    "\"\"\"\n",
    "\n",
    "result = session.execute(song_attributes_query)\n",
    "for i, row in enumerate(result):\n",
    "    if i >= 5:\n",
    "        break\n",
    "    print(row)\n"
   ]
  },
  {
   "cell_type": "code",
   "execution_count": 7,
   "metadata": {},
   "outputs": [],
   "source": [
    "song_attributes = ['is_playable', 'danceability', 'energy', 'key', 'loudness', 'speechiness', 'acousticness',\n",
    "                   'instrumentalness', 'liveness', 'valence', 'tempo', 'duration_ms', 'Monday', 'Tuesday',\n",
    "                   'Wednesday', 'Thursday', 'Friday', 'Saturday', 'Sunday', 'January', 'February', 'March', 'April',\n",
    "                   'May', 'June', 'July', 'August', 'September', 'October', 'November', 'December', 'time_since_release',\n",
    "                   'C', 'CD', 'D', 'DE', 'E', 'F', 'FG', 'G', 'GA', 'A', 'AB', 'B', 'mode_minor', 'mode_major',\n",
    "                   'speechiness_mixed', 'speechiness_non_speech', 'speechiness_speech', 'instrumentalness_above_5',\n",
    "                   'instrumentalness_below_5', 'is_live', 'is_not_live', 'time_signature_4_4', 'time_signature_other']\n",
    "\n",
    "additional_attributes = ['track_uri', 'name', 'artists_names', 'popularity', 'release_date', \n",
    "                         'artists_uris', 'playlist_uris', 'artists_popularities', 'artists_genres', \n",
    "                         'artists_followers', 'album', 'compilation', 'single', 'release_dayofweek', \n",
    "                         'release_month', 'pitch_names', 'broader_genre_category']"
   ]
  },
  {
   "cell_type": "code",
   "execution_count": 8,
   "metadata": {},
   "outputs": [],
   "source": [
    "# Define file paths for CSV files\n",
    "song_attributes_csv = \"song_attributes.csv\"\n",
    "additional_attributes_csv = \"additional_attributes.csv\"\n",
    "\n",
    "# Execute and write results for song_attributes_query\n",
    "with open(song_attributes_csv, 'w', newline='') as file:\n",
    "    writer = csv.writer(file)\n",
    "    writer.writerow([\"index\"] + song_attributes[1:])\n",
    "    result = session.execute(song_attributes_query)\n",
    "    for row in result:\n",
    "        writer.writerow(row)\n",
    "\n",
    "# Execute and write results for addl_attributes_query\n",
    "with open(additional_attributes_csv, 'w', newline='') as file:\n",
    "    writer = csv.writer(file)\n",
    "    writer.writerow([\"index\"] + additional_attributes[1:])\n",
    "    result = session.execute(other_attributes_query)\n",
    "    for row in result:\n",
    "        writer.writerow(row)"
   ]
  },
  {
   "cell_type": "code",
   "execution_count": null,
   "metadata": {},
   "outputs": [],
   "source": []
  }
 ],
 "metadata": {
  "kernelspec": {
   "display_name": "dev",
   "language": "python",
   "name": "python3"
  },
  "language_info": {
   "codemirror_mode": {
    "name": "ipython",
    "version": 3
   },
   "file_extension": ".py",
   "mimetype": "text/x-python",
   "name": "python",
   "nbconvert_exporter": "python",
   "pygments_lexer": "ipython3",
   "version": "3.10.13"
  }
 },
 "nbformat": 4,
 "nbformat_minor": 2
}
