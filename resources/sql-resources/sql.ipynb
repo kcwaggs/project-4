{
 "cells": [
  {
   "cell_type": "code",
   "execution_count": 1,
   "metadata": {},
   "outputs": [],
   "source": [
    "# import dependencies\n",
    "from pathlib import Path\n",
    "from sqlalchemy import create_engine\n",
    "import pandas as pd\n",
    "import numpy as np\n",
    "from datetime import datetime\n",
    "from sqlalchemy.orm import sessionmaker\n",
    "import csv\n",
    "\n",
    "\n",
    "# file path and df set up \n",
    "# the main resources folder was too large for upload in github so it is on my local machine\n",
    "# link to the resource is in the readme and you can insert your path below to run locally\n",
    "file_path = Path(\"../main_dataset.csv\")\n",
    "df = pd.read_csv(\"../main_dataset.csv\")\n",
    "\n",
    "# add index column for uniformity with the dataset \n",
    "df.insert(0, 'index', range(1, len(df) + 1))\n"
   ]
  },
  {
   "cell_type": "code",
   "execution_count": 2,
   "metadata": {},
   "outputs": [],
   "source": [
    "def convert_to_unix(date_str):\n",
    "    try:\n",
    "        date = pd.to_datetime(date_str)\n",
    "        return int(date.timestamp())\n",
    "    \n",
    "    except ValueError:\n",
    "        try:\n",
    "            year = int(date_str)\n",
    "            month = np.random.randint(1, 12)\n",
    "            day = np.random.randint(1, 28) \n",
    "            date = datetime(year, month, day)\n",
    "            return int(date.timestamp())\n",
    "        \n",
    "        except ValueError:\n",
    "            return int(datetime(1970, 1, 1).timestamp())\n",
    "        \n"
   ]
  },
  {
   "cell_type": "code",
   "execution_count": 3,
   "metadata": {},
   "outputs": [],
   "source": [
    "# Apply the convert_to_unix function to the release_date column and create a new column 'unix_time'\n",
    "df['unix_time'] = df['release_date'].apply(convert_to_unix)"
   ]
  },
  {
   "cell_type": "code",
   "execution_count": 4,
   "metadata": {},
   "outputs": [
    {
     "name": "stdout",
     "output_type": "stream",
     "text": [
      "(1, 'spotify:track:3v6sBj3swihU8pXQQHhDZo', 'Way Up (feat. Ava Re)', \"['Floduxe']\", 0, 'single', 1, '2015-11-20', \"['spotify:artist:4B7SI5PsnEgeMQd6gSIrbn']\", \"['spotify:playlist:5JJZvA3VR9RZ5XIr0reWiM']\", 0.611, 0.614, 5.0, -8.815, 0.0, 0.0672, 0.0169, 0.000794, 0.753, 0.52, 128.05, 'https://api.spotify.com/v1/audio-analysis/3v6sBj3swihU8pXQQHhDZo', 195000.0, 4.0, '[9]', '[[]]', '[765]', 1447977600)\n",
      "(2, 'spotify:track:7KCWmFdw0TzoJbKtqRRzJO', 'Fantasy - Felix Jaehn Remix', \"['Alina Baraz', 'Galimatias']\", 33, 'album', 1, '2015-09-04', \"['spotify:artist:6hfwwpXqZPRC9CsKI7qtv1', 'spotify:artist:0tOrKkXIn3VYyVHFEPG6Xd']\", \"['spotify:playlist:5JJZvA3VR9RZ5XIr0reWiM']\", 0.638, 0.781, 4.0, -6.848, 0.0, 0.0285, 0.0118, 0.00953, 0.349, 0.25, 122.985, 'https://api.spotify.com/v1/audio-analysis/7KCWmFdw0TzoJbKtqRRzJO', 194641.0, 4.0, '[68, 56]', \"[['etherpop', 'pop', 'r&b'], ['chillstep', 'future bass']]\", '[1283665, 138396]', 1441324800)\n",
      "(3, 'spotify:track:2CY92qejUrhyPUASawNVRr', 'Try Me', \"['DeJ Loaf']\", 52, 'single', 1, '2014-10-15', \"['spotify:artist:7kFfY4UjNdNyaeUgLIEbIF']\", \"['spotify:playlist:5JJZvA3VR9RZ5XIr0reWiM']\", 0.56, 0.81, 0.0, -8.029, 0.0, 0.0872, 0.0071, 7.93e-06, 0.241, 0.247, 170.044, 'https://api.spotify.com/v1/audio-analysis/2CY92qejUrhyPUASawNVRr', 217573.0, 4.0, '[65]', \"[['detroit hip hop', 'pop r&b', 'r&b', 'trap', 'trap queen']]\", '[1544981]', 1413331200)\n",
      "(4, 'spotify:track:11BPfwVbB7vok7KfjBeW4k', 'Walk on by (Sound Remedy Remix)', \"['Noosa']\", 0, 'single', 1, '2014-07-10', \"['spotify:artist:2F8tffsSfw1767WgjtAHBW']\", \"['spotify:playlist:5JJZvA3VR9RZ5XIr0reWiM']\", 0.525, 0.699, 9.0, -4.571, 1.0, 0.0353, 0.0178, 8.8e-05, 0.0888, 0.199, 92.011, 'https://api.spotify.com/v1/audio-analysis/11BPfwVbB7vok7KfjBeW4k', 443478.0, 4.0, '[32]', \"[['shimmer pop', 'shiver pop']]\", '[18241]', 1404950400)\n",
      "(5, 'spotify:track:3yUJKPsjvThlcQWTS9ttYx', 'Pretty Wings', \"['Zak Waters', 'Pretty Sister']\", 0, 'single', 1, '2014-06-17', \"['spotify:artist:0B8XBGloduGCBtRK8nm2YF', 'spotify:artist:4bvWFV51SAEocM22uiDOza']\", \"['spotify:playlist:5JJZvA3VR9RZ5XIr0reWiM']\", 0.367, 0.771, 9.0, -5.863, 1.0, 0.106, 0.365, 1.47e-06, 0.0965, 0.163, 115.917, 'https://api.spotify.com/v1/audio-analysis/3yUJKPsjvThlcQWTS9ttYx', 225862.0, 4.0, '[30, 39]', \"[['indie poptimism'], ['la pop']]\", '[10105, 13775]', 1402963200)\n"
     ]
    }
   ],
   "source": [
    "# create engine and new sqlite file \n",
    "engine = create_engine('sqlite:///converted_file.sqlite')\n",
    "df.to_sql('dataset', engine, if_exists = 'replace', index=False)\n",
    "\n",
    "# start session \n",
    "Session = sessionmaker(bind = engine)\n",
    "session = Session()\n",
    "\n",
    "# print first 10 rows of dataset \n",
    "result = session.execute('select * from dataset limit 5')\n",
    "for row in result:\n",
    "    print(row) "
   ]
  },
  {
   "cell_type": "code",
   "execution_count": 5,
   "metadata": {},
   "outputs": [
    {
     "name": "stdout",
     "output_type": "stream",
     "text": [
      "(6, 'spotify:track:41MOCUNOgWtaYBFUsGnpZ5', 'The Safety Dance - Video Version', \"['Men Without Hats']\", 37, 'album', 1, '1982', \"['spotify:artist:34PLzyi7CdXUekiLHYyqXq']\", \"['spotify:playlist:3o1jJdcl3fz0nxnEvmpozM', 'spotify:playlist:2MRwwqPvBdkihfVVkbdyyc', 'spotify:playlist:1QGAGnozUEKcW3YHAY0OJP', 'spotify:playlist:519N2pOOQrNuVt3hJ7GF7S', 'spotify:playlist:12qiUmQsX8f8ZRBayEGhyn', 'spotify:playlist:5JJZvA3VR9RZ5XIr0reWiM']\", 0.572, 0.837, 5.0, -7.876, 1.0, 0.0367, 0.0197, 0.0, 0.163, 0.627, 100.343, 'https://api.spotify.com/v1/audio-analysis/41MOCUNOgWtaYBFUsGnpZ5', 166920.0, 4.0, '[55]', \"[['classic canadian rock', 'new romantic', 'new wave', 'new wave pop', 'synthpop']]\", '[208619]', 378691200)\n",
      "(103, 'spotify:track:7bNX2Fgb4MjPrYbkHaCNwV', 'Roll With It', \"['Easton Corbin']\", 57, 'album', 1, '2010', \"['spotify:artist:070kGpqtESdDsLb3gdMIyx']\", \"['spotify:playlist:49QHtigsIlJ7DhsBElxQjC', 'spotify:playlist:2VxF0Ope2So8d0PQQv9iol', 'spotify:playlist:0J74JRyDCMotTzAEKMfwYN']\", 0.709, 0.654, 5.0, -7.753, 1.0, 0.0267, 0.106, 0.0, 0.277, 0.488, 119.989, 'https://api.spotify.com/v1/audio-analysis/7bNX2Fgb4MjPrYbkHaCNwV', 207587.0, 4.0, '[60]', \"[['contemporary country', 'country', 'country road', 'modern country rock']]\", '[922069]', 1262304000)\n",
      "(191, 'spotify:track:4duRCqphyoANSfH8oUl6c2', 'Lay Me Down', \"['Dirty Heads']\", 0, 'album', 1, '2008', \"['spotify:artist:6GkJh85o22LfD2vgL9DP6f']\", \"['spotify:playlist:3JEf0WFZjNEqWdpxJlJjoj']\", 0.71, 0.725, 7.0, -7.451, 1.0, 0.105, 0.073, 1.52e-06, 0.0912, 0.768, 170.101, 'https://api.spotify.com/v1/audio-analysis/4duRCqphyoANSfH8oUl6c2', 217520.0, 4.0, '[65]', \"[['reggae fusion', 'reggae rock']]\", '[748637]', 1199145600)\n",
      "(216, 'spotify:track:0s995gCthqnYJCWGvfKpNt', 'One Bourbon, One Scotch, One Beer', \"['George Thorogood & The Destroyers']\", 58, 'album', 1, '1977', \"['spotify:artist:4n31svBA9GGIYxGxgrQaRK']\", \"['spotify:playlist:3Li5Lciiqk6SoxKwBC9Ale', 'spotify:playlist:3RgRSe1L4jZiMDpIZloC84', 'spotify:playlist:5LhIOGayylJTioRBrAcDlJ', 'spotify:playlist:3JEf0WFZjNEqWdpxJlJjoj']\", 0.552, 0.643, 9.0, -14.523, 1.0, 0.14, 0.144, 0.0027, 0.0878, 0.763, 136.764, 'https://api.spotify.com/v1/audio-analysis/0s995gCthqnYJCWGvfKpNt', 506720.0, 4.0, '[59]', \"[['album rock', 'blues rock', 'classic rock', 'country rock', 'electric blues', 'hard rock', 'heartland rock', 'mellow gold', 'rock']]\", '[815748]', 220924800)\n",
      "(223, 'spotify:track:4CZrDF50zES5KDHmZbX2BG', 'Seven Nights In Eire', \"['Reckless Kelly']\", 51, 'album', 1, '2005', \"['spotify:artist:0jmPjksXqVrO92Urmx58vg']\", \"['spotify:playlist:23M0LxfkwhVksimY3wrMtA', 'spotify:playlist:7s9zyxrhb72eodt3W2E8Ao', 'spotify:playlist:3JEf0WFZjNEqWdpxJlJjoj']\", 0.446, 0.601, 9.0, -7.604, 0.0, 0.0276, 0.164, 9.65e-06, 0.166, 0.735, 108.464, 'https://api.spotify.com/v1/audio-analysis/4CZrDF50zES5KDHmZbX2BG', 197440.0, 4.0, '[46]', \"[['texas country']]\", '[133853]', 1104537600)\n"
     ]
    }
   ],
   "source": [
    "result = session.execute(\"select * from dataset where release_date not like '____-__-__' limit 5\")\n",
    "for row in result:\n",
    "    print(row)\n",
    "\n",
    "# 19864 rows not in the right format (looks like only the year is included)\n",
    "# still getting errors for random integer assignment for the month/day "
   ]
  },
  {
   "cell_type": "code",
   "execution_count": 6,
   "metadata": {},
   "outputs": [],
   "source": [
    "song_attributes = ['\"index\"', 'track_uri', 'danceability', 'energy', 'key', 'loudness', \n",
    "                   'mode', 'speechiness', 'acousticness', 'instrumentalness', 'liveness', \n",
    "                   'valence', 'tempo', 'duration_ms', 'time_signature', 'popularity']\n",
    "\n",
    "additional_attributes = ['\"index\"', 'track_uri', 'name', 'artists_names', 'popularity', 'unix_time', 'artists_popularities']"
   ]
  },
  {
   "cell_type": "code",
   "execution_count": 7,
   "metadata": {},
   "outputs": [],
   "source": [
    "song_attributes_query = f\"select {', '.join(song_attributes)} from dataset\"\n",
    "result = session.execute(song_attributes_query)"
   ]
  },
  {
   "cell_type": "code",
   "execution_count": 8,
   "metadata": {},
   "outputs": [],
   "source": [
    "addl_attributes_query = f\"select {', '.join(additional_attributes)} from dataset\"\n",
    "result = session.execute(addl_attributes_query)"
   ]
  },
  {
   "cell_type": "code",
   "execution_count": 9,
   "metadata": {},
   "outputs": [],
   "source": [
    "# Define file paths for CSV files\n",
    "song_attributes_csv = \"song_attributes.csv\"\n",
    "additional_attributes_csv = \"additional_attributes.csv\"\n",
    "\n",
    "# Execute and write results for song_attributes_query\n",
    "with open(song_attributes_csv, 'w', newline='') as file:\n",
    "    writer = csv.writer(file)\n",
    "    writer.writerow([\"index\"] + song_attributes[1:])\n",
    "    result = session.execute(song_attributes_query)\n",
    "    for row in result:\n",
    "        writer.writerow(row)\n",
    "\n",
    "# Execute and write results for addl_attributes_query\n",
    "with open(additional_attributes_csv, 'w', newline='') as file:\n",
    "    writer = csv.writer(file)\n",
    "    writer.writerow([\"index\"] + additional_attributes[1:])\n",
    "    result = session.execute(addl_attributes_query)\n",
    "    for row in result:\n",
    "        writer.writerow(row)"
   ]
  },
  {
   "cell_type": "code",
   "execution_count": null,
   "metadata": {},
   "outputs": [],
   "source": []
  }
 ],
 "metadata": {
  "kernelspec": {
   "display_name": "dev",
   "language": "python",
   "name": "python3"
  },
  "language_info": {
   "codemirror_mode": {
    "name": "ipython",
    "version": 3
   },
   "file_extension": ".py",
   "mimetype": "text/x-python",
   "name": "python",
   "nbconvert_exporter": "python",
   "pygments_lexer": "ipython3",
   "version": "3.10.13"
  }
 },
 "nbformat": 4,
 "nbformat_minor": 2
}
